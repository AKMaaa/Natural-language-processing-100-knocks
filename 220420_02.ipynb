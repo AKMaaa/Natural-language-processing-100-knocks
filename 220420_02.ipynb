{
 "cells": [
  {
   "cell_type": "code",
   "execution_count": 93,
   "metadata": {},
   "outputs": [
    {
     "name": "stdout",
     "output_type": "stream",
     "text": [
      "a+b:  8\n",
      "a^b:  243\n"
     ]
    }
   ],
   "source": [
    "# Exercise 1\n",
    "a = 3\n",
    "b = 5\n",
    "print(\"a+b: \", a+b)\n",
    "print(\"a^b: \", a**b)\n"
   ]
  },
  {
   "cell_type": "code",
   "execution_count": 81,
   "metadata": {},
   "outputs": [
    {
     "name": "stdout",
     "output_type": "stream",
     "text": [
      "10 divided by 7 is 1.4286\n",
      "square root of 2 is 1.4142\n"
     ]
    }
   ],
   "source": [
    "# Exercise 2\n",
    "import math\n",
    "num = 10/7\n",
    "print('10 divided by 7 is {:.4f}'.format(num))\n",
    "print('square root of 2 is {:.4f}'.format(math.sqrt(2)))\n"
   ]
  },
  {
   "cell_type": "code",
   "execution_count": 82,
   "metadata": {},
   "outputs": [
    {
     "name": "stdout",
     "output_type": "stream",
     "text": [
      "7\n",
      "[1, 7, 3]\n",
      "square = 9,25,1,49,9,16,81,36,4,1\n"
     ]
    }
   ],
   "source": [
    "# quiz1\n",
    "data = [3, 5, 1, 7, 3, 4, 9, 6, 2, 1]\n",
    "print(data[3])\n",
    "print(data[2:5])\n",
    "\n",
    "# xercise 3（配列の要素全部でループ処理）\n",
    "string = ''\n",
    "for i in range(10):\n",
    "    num2 = data[i]**2\n",
    "    if(i != 9):\n",
    "        string += str(num2)+','\n",
    "    else:\n",
    "        string += str(num2)\n",
    "print('square = {}'.format(string))\n"
   ]
  },
  {
   "cell_type": "code",
   "execution_count": 83,
   "metadata": {},
   "outputs": [
    {
     "name": "stdout",
     "output_type": "stream",
     "text": [
      "square =  [ 9 25  1 49  9 16 81 36  4  1]\n"
     ]
    },
    {
     "data": {
      "text/plain": [
       "10"
      ]
     },
     "execution_count": 83,
     "metadata": {},
     "output_type": "execute_result"
    }
   ],
   "source": [
    "# sample1\n",
    "import numpy as np\n",
    "\n",
    "data = np.array([3, 5, 1, 7, 3, 4, 9, 6, 2, 1])\n",
    "print('square = ', data**2)\n",
    "\n",
    "type(data)\n",
    "data.dtype\n",
    "data.shape\n",
    "data.size\n"
   ]
  },
  {
   "cell_type": "code",
   "execution_count": 84,
   "metadata": {},
   "outputs": [
    {
     "name": "stdout",
     "output_type": "stream",
     "text": [
      "[[0 5 1]\n",
      " [2 4 0]\n",
      " [0 0 1]]\n",
      "[[-0.4  0.5  0.4]\n",
      " [ 0.2  0.  -0.2]\n",
      " [ 0.   0.   1. ]]\n",
      "[[1. 0. 0.]\n",
      " [0. 1. 0.]\n",
      " [0. 0. 1.]]\n"
     ]
    }
   ],
   "source": [
    "# sample2\n",
    "a = np.array([[0, 5, 1], [2, 4, 0], [0, 0, 1]])\n",
    "print(a)\n",
    "\n",
    "a_inv = np.linalg.inv(a)\n",
    "print(a_inv)\n",
    "\n",
    "print(np.dot(a, a_inv))\n"
   ]
  },
  {
   "cell_type": "code",
   "execution_count": 85,
   "metadata": {},
   "outputs": [
    {
     "name": "stdout",
     "output_type": "stream",
     "text": [
      "[[1 2 3]\n",
      " [4 5 6]]\n"
     ]
    },
    {
     "data": {
      "text/plain": [
       "array([[1, 4],\n",
       "       [2, 5],\n",
       "       [3, 6]])"
      ]
     },
     "execution_count": 85,
     "metadata": {},
     "output_type": "execute_result"
    }
   ],
   "source": [
    "# sample3\n",
    "a = np.array([[1, 2, 3], [4, 5, 6]])\n",
    "print(a)\n",
    "\n",
    "a.shape\n",
    "\n",
    "a.shape[0]\n",
    "\n",
    "a.size\n",
    "\n",
    "a.T\n"
   ]
  },
  {
   "cell_type": "code",
   "execution_count": 86,
   "metadata": {},
   "outputs": [
    {
     "name": "stdout",
     "output_type": "stream",
     "text": [
      "[[ 6]\n",
      " [-9]\n",
      " [-8]]\n"
     ]
    }
   ],
   "source": [
    "# EXERCISE4\n",
    "a = np.array([[4, 2, 0], [5, 9, 5], [5, 8, 5]])\n",
    "x = np.array([[2], [-1], [-2]])\n",
    "\n",
    "# axの積を求める\n",
    "print(np.dot(a, x))\n"
   ]
  },
  {
   "cell_type": "code",
   "execution_count": 87,
   "metadata": {},
   "outputs": [
    {
     "name": "stdout",
     "output_type": "stream",
     "text": [
      "   height  weight\n",
      "0     168      59\n",
      "1     164      58\n",
      "2     171      60\n"
     ]
    },
    {
     "data": {
      "text/plain": [
       "0    168\n",
       "1    164\n",
       "2    171\n",
       "Name: height, dtype: int64"
      ]
     },
     "execution_count": 87,
     "metadata": {},
     "output_type": "execute_result"
    }
   ],
   "source": [
    "# sample4 pandas\n",
    "\n",
    "import pandas as pd\n",
    "a = pd.read_csv('data\\sintai_part.csv')\n",
    "print(a)\n",
    "a['height']\n"
   ]
  },
  {
   "cell_type": "code",
   "execution_count": 88,
   "metadata": {},
   "outputs": [
    {
     "data": {
      "image/png": "[encoded data removed]",
      "text/plain": [
       "<Figure size 432x288 with 1 Axes>"
      ]
     },
     "metadata": {
      "needs_background": "light"
     },
     "output_type": "display_data"
    }
   ],
   "source": [
    "# sample5 matplolib\n",
    "\n",
    "import numpy as np\n",
    "import matplotlib.pyplot as plt\n",
    "\n",
    "x = np.arange(5)  # [0,1,2,3,4]\n",
    "\n",
    "plt.plot(x, x)\n",
    "plt.plot(x, x**2)\n",
    "plt.show()\n"
   ]
  },
  {
   "cell_type": "code",
   "execution_count": 89,
   "metadata": {},
   "outputs": [
    {
     "name": "stdout",
     "output_type": "stream",
     "text": [
      "[[ 60  60  90]\n",
      " [ 80  30  80]\n",
      " [100  90  90]]\n",
      "75.55555555555556\n",
      "[80.         60.         86.66666667]\n",
      "[70.         63.33333333 93.33333333]\n"
     ]
    }
   ],
   "source": [
    "# sample6\n",
    "\n",
    "mat = np.array([[60, 60, 90], [80, 30, 80], [100, 90, 90]])\n",
    "print(mat)\n",
    "print(np.mean(mat))\n",
    "print(np.mean(mat, axis=0))\n",
    "print(np.mean(mat, axis=1))"
   ]
  },
  {
   "cell_type": "code",
   "execution_count": 90,
   "metadata": {},
   "outputs": [],
   "source": [
    "#quiz2\n",
    "# data.ndim=5\n",
    "# 動画が1000個 / 30fps * 6s = 180フレーム / 横800px / 縦600px /RGB 3ch\n",
    "# data.shape=(1000,180,600,800,3)\n",
    "\n",
    "#quiz3\n",
    "#quiz4\n",
    "#quiz5\n",
    "#quiz6\n",
    "#教師あり学習(会期モデル)"
   ]
  },
  {
   "cell_type": "code",
   "execution_count": 96,
   "metadata": {},
   "outputs": [
    {
     "name": "stdout",
     "output_type": "stream",
     "text": [
      "7888\n",
      "3.1552\n"
     ]
    }
   ],
   "source": [
    "# sample7\n",
    "count = 0\n",
    "for i in range(10000):\n",
    "    a = np.random.rand()\n",
    "    b = np.random.rand()\n",
    "    if a*a+b*b < 1:\n",
    "        count += 1\n",
    "print(count)  # 7866\n",
    "print(count/10000*4)  # 3.1464\n"
   ]
  }
 ],
 "metadata": {
  "interpreter": {
   "hash": "3110e915b91a5321feed09f030fb5d8e72dd815be73015ea984f37c9c8181878"
  },
  "kernelspec": {
   "display_name": "Python 3.9.12 64-bit (windows store)",
   "language": "python",
   "name": "python3"
  },
  "language_info": {
   "codemirror_mode": {
    "name": "ipython",
    "version": 3
   },
   "file_extension": ".py",
   "mimetype": "text/x-python",
   "name": "python",
   "nbconvert_exporter": "python",
   "pygments_lexer": "ipython3",
   "version": "3.9.7"
  },
  "orig_nbformat": 4
 },
 "nbformat": 4,
 "nbformat_minor": 2
}
